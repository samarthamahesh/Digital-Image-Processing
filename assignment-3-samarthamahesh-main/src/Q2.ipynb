{
 "cells": [
  {
   "cell_type": "code",
   "execution_count": 1,
   "metadata": {},
   "outputs": [],
   "source": [
    "import cv2\n",
    "import numpy as np\n",
    "from matplotlib import pyplot as plt"
   ]
  },
  {
   "cell_type": "markdown",
   "metadata": {},
   "source": [
    "# Question 2\n",
    "\n",
    "---\n",
    "\n",
    "#### Find the organs of interest in the provided CT image kidney.jpg. The organs of interest are as shown below."
   ]
  },
  {
   "cell_type": "code",
   "execution_count": 2,
   "metadata": {},
   "outputs": [],
   "source": [
    "def find_root(conn, x):\n",
    "    tmp = x\n",
    "    while conn[tmp] != 0:\n",
    "        tmp = conn[tmp]\n",
    "        \n",
    "    return tmp\n",
    "\n",
    "def connected_components(im, neigh):\n",
    "    im = np.int32(im)\n",
    "    m, n = im.shape\n",
    "    \n",
    "    ret = np.zeros((m, n), dtype=int)\n",
    "    p = 1\n",
    "    conn = np.zeros((m*n), dtype=int)\n",
    "    \n",
    "    # Pass 1\n",
    "    for i in range(m):\n",
    "        for j in range(n):\n",
    "            if im[i][j] == 1:\n",
    "                arr = np.zeros(4, dtype=int)\n",
    "                \n",
    "                if j-1 >= 0:\n",
    "                    arr[0] = ret[i][j-1]\n",
    "                    \n",
    "                if i-1 >= 0:\n",
    "                    arr[1] = ret[i-1][j]\n",
    "                    \n",
    "                if neigh == 8:\n",
    "                    if i-1 >= 0 and j-1 >= 0:\n",
    "                        arr[2] = ret[i-1][j-1]\n",
    "                        \n",
    "                    if i-1 >= 0 and j+1 < n:\n",
    "                        arr[3] = ret[i-1][j+1]\n",
    "                \n",
    "                arr = arr[arr != 0]\n",
    "                \n",
    "                if arr.shape[0] == 0:\n",
    "                    ret[i][j] = p\n",
    "                    p += 1\n",
    "                else:\n",
    "                    ret[i][j] = np.min(arr)\n",
    "                    min_root = find_root(conn, ret[i][j])\n",
    "                    \n",
    "                    rep = arr[arr != ret[i][j]]\n",
    "                    rep = np.unique(rep)\n",
    "                    \n",
    "                    if rep.shape[0] == 0:\n",
    "                        continue\n",
    "                        \n",
    "                    for k in rep:\n",
    "                        k_root = find_root(conn, k)\n",
    "                        \n",
    "                        if k_root != min_root:\n",
    "                            conn[k_root] = ret[i][j]\n",
    "                        \n",
    "    # Pass 2\n",
    "    for i in range(m):\n",
    "        for j in range(n):\n",
    "            if im[i][j] == 1:\n",
    "                ret[i][j] = find_root(conn, ret[i][j])\n",
    "                \n",
    "    labels = np.unique(ret)\n",
    "    for i in range(len(labels)):\n",
    "        ret[ret == labels[i]] = i\n",
    "    \n",
    "    return labels.shape[0], ret"
   ]
  },
  {
   "cell_type": "code",
   "execution_count": 8,
   "metadata": {},
   "outputs": [],
   "source": [
    "def erosion(im, se):\n",
    "    im = np.int32(im)\n",
    "    m, n = im.shape\n",
    "    k, l = se.shape\n",
    "    \n",
    "    im = np.vstack((np.zeros(((k-1)//2, n+l-1)), np.hstack((np.zeros((m, (l-1)//2)), im, np.zeros((m, (l-1)//2)))), np.zeros(((k-1)//2, n+l-1))))\n",
    "    ret = np.zeros((m, n))\n",
    "    \n",
    "    for i in range(m):\n",
    "        for j in range(n):\n",
    "            ret[i][j] = np.min(im[i:i+k, j:j+l][se == 1])\n",
    "            \n",
    "    return ret\n",
    "\n",
    "def dilation(im, se):\n",
    "    im = np.int32(im)\n",
    "    m, n = im.shape\n",
    "    k, l = se.shape\n",
    "    \n",
    "    im = np.vstack((np.zeros(((k-1)//2, n+l-1)), np.hstack((np.zeros((m, (l-1)//2)), im, np.zeros((m, (l-1)//2)))), np.zeros(((k-1)//2, n+l-1))))\n",
    "    ret = np.zeros((m, n))\n",
    "    \n",
    "    for i in range(m):\n",
    "        for j in range(n):\n",
    "            ret[i][j] = np.max(im[i:i+k, j:j+l][se == 1])\n",
    "            \n",
    "    return ret\n",
    "\n",
    "def circle_kernel(x):\n",
    "    k, l = np.meshgrid(np.arange(x), np.arange(x))\n",
    "    k = k - np.mean(k, axis=1)\n",
    "    l = l - np.mean(l, axis=0)\n",
    "    \n",
    "    ret = np.sqrt(k**2 + l**2)\n",
    "    \n",
    "    return np.where(ret <= x//2, 1, 0)\n",
    "\n",
    "def disc_kernel(x):\n",
    "    out_k = circle_kernel(x)\n",
    "    in_k = np.vstack((np.zeros((1, x)), np.hstack((np.zeros((x-2, 1)), circle_kernel(x-2), np.zeros((x-2, 1)))), np.zeros((1, x))))\n",
    "    \n",
    "    return out_k - in_k"
   ]
  },
  {
   "cell_type": "code",
   "execution_count": 9,
   "metadata": {},
   "outputs": [],
   "source": [
    "def imshow_components(labels):\n",
    "    label_hue = np.uint8(179*labels/np.max(labels))\n",
    "    blank_ch = 255*np.ones_like(label_hue)\n",
    "    labeled_img = cv2.merge([label_hue, blank_ch, blank_ch])\n",
    "\n",
    "    labeled_img = cv2.cvtColor(labeled_img, cv2.COLOR_HSV2BGR)\n",
    "\n",
    "    labeled_img[label_hue==0] = 0\n",
    "\n",
    "    plt.imshow(labeled_img)"
   ]
  },
  {
   "cell_type": "code",
   "execution_count": 21,
   "metadata": {},
   "outputs": [
    {
     "data": {
      "image/png": "[encoded data removed]",
      "text/plain": [
       "<Figure size 432x288 with 1 Axes>"
      ]
     },
     "metadata": {
      "needs_background": "light"
     },
     "output_type": "display_data"
    }
   ],
   "source": [
    "im = cv2.imread('../images/kidney.jpg')\n",
    "im = cv2.cvtColor(im, cv2.COLOR_BGR2GRAY)\n",
    "\n",
    "_, thresh = cv2.threshold(im, 130, 1, cv2.THRESH_BINARY)\n",
    "\n",
    "kernel = disc_kernel(11)\n",
    "opening = dilation(erosion(thresh, kernel), kernel)\n",
    "\n",
    "kernel = disc_kernel(5)\n",
    "closing = erosion(dilation(opening, kernel), kernel)\n",
    "\n",
    "num_labels, labels_im = connected_components(closing, 8)\n",
    "\n",
    "imshow_components(labels_im)"
   ]
  },
  {
   "cell_type": "code",
   "execution_count": null,
   "metadata": {},
   "outputs": [],
   "source": []
  }
 ],
 "metadata": {
  "kernelspec": {
   "display_name": "Python 3",
   "language": "python",
   "name": "python3"
  },
  "language_info": {
   "codemirror_mode": {
    "name": "ipython",
    "version": 3
   },
   "file_extension": ".py",
   "mimetype": "text/x-python",
   "name": "python",
   "nbconvert_exporter": "python",
   "pygments_lexer": "ipython3",
   "version": "3.8.5"
  }
 },
 "nbformat": 4,
 "nbformat_minor": 4
}
