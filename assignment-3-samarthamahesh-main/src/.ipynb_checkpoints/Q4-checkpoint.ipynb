{
 "cells": [
  {
   "cell_type": "code",
   "execution_count": 1,
   "metadata": {},
   "outputs": [],
   "source": [
    "import cv2\n",
    "import numpy as np\n",
    "from matplotlib import pyplot as plt"
   ]
  },
  {
   "cell_type": "markdown",
   "metadata": {},
   "source": [
    "# Question 4\n",
    "\n",
    "---\n",
    "\n"
   ]
  },
  {
   "cell_type": "code",
   "execution_count": 2,
   "metadata": {},
   "outputs": [],
   "source": [
    "def find_root(conn, x):\n",
    "    tmp = x\n",
    "    while conn[tmp] != 0:\n",
    "        tmp = conn[tmp]\n",
    "        \n",
    "    return tmp\n",
    "\n",
    "def connected_components(im, neigh):\n",
    "    im = np.int32(im)\n",
    "    m, n = im.shape\n",
    "    \n",
    "    ret = np.zeros((m, n), dtype=int)\n",
    "    p = 1\n",
    "    conn = np.zeros((m*n), dtype=int)\n",
    "    \n",
    "    # Pass 1\n",
    "    for i in range(m):\n",
    "        for j in range(n):\n",
    "            if im[i][j] == 1:\n",
    "                arr = np.zeros(4, dtype=int)\n",
    "                \n",
    "                if j-1 >= 0:\n",
    "                    arr[0] = ret[i][j-1]\n",
    "                    \n",
    "                if i-1 >= 0:\n",
    "                    arr[1] = ret[i-1][j]\n",
    "                    \n",
    "                if neigh == 8:\n",
    "                    if i-1 >= 0 and j-1 >= 0:\n",
    "                        arr[2] = ret[i-1][j-1]\n",
    "                        \n",
    "                    if i-1 >= 0 and j+1 < n:\n",
    "                        arr[3] = ret[i-1][j+1]\n",
    "                \n",
    "                arr = arr[arr != 0]\n",
    "                \n",
    "                if arr.shape[0] == 0:\n",
    "                    ret[i][j] = p\n",
    "                    p += 1\n",
    "                else:\n",
    "                    ret[i][j] = np.min(arr)\n",
    "                    min_root = find_root(conn, ret[i][j])\n",
    "                    \n",
    "                    rep = arr[arr != ret[i][j]]\n",
    "                    rep = np.unique(rep)\n",
    "                    \n",
    "                    if rep.shape[0] == 0:\n",
    "                        continue\n",
    "                        \n",
    "                    for k in rep:\n",
    "                        k_root = find_root(conn, k)\n",
    "                        \n",
    "                        if k_root != min_root:\n",
    "                            conn[k_root] = ret[i][j]\n",
    "                        \n",
    "    # Pass 2\n",
    "    for i in range(m):\n",
    "        for j in range(n):\n",
    "            if im[i][j] == 1:\n",
    "                ret[i][j] = find_root(conn, ret[i][j])\n",
    "                \n",
    "    labels = np.unique(ret)\n",
    "    for i in range(len(labels)):\n",
    "        ret[ret == labels[i]] = i\n",
    "    \n",
    "    return labels.shape[0], ret"
   ]
  },
  {
   "cell_type": "code",
   "execution_count": 3,
   "metadata": {},
   "outputs": [],
   "source": [
    "def morphological_op(im, st_ele):\n",
    "    m, n = im.shape\n",
    "    k, l = st_ele.shape\n",
    "    ret = np.zeros((m, n))\n",
    "    \n",
    "    im = np.vstack((np.zeros(((k-1)//2, n+l-1)), np.hstack((np.zeros((m, (l-1)//2)), im, np.zeros((m, (l-1)//2)))), np.zeros(((k-1)//2, n+l-1))))\n",
    "    \n",
    "    for i in range(m):\n",
    "        for j in range(n):\n",
    "            if (k*l)-np.sum(np.isnan(st_ele)) == np.sum(st_ele == im[i:i+k, j:j+l]):\n",
    "                ret[i][j] = 1\n",
    "    \n",
    "    return ret"
   ]
  },
  {
   "cell_type": "code",
   "execution_count": 4,
   "metadata": {},
   "outputs": [
    {
     "data": {
      "image/png": "[encoded data removed]",
      "text/plain": [
       "<Figure size 432x288 with 1 Axes>"
      ]
     },
     "metadata": {
      "needs_background": "light"
     },
     "output_type": "display_data"
    }
   ],
   "source": [
    "im = cv2.imread('../images/objects.png')\n",
    "im = cv2.cvtColor(im, cv2.COLOR_BGR2GRAY)\n",
    "\n",
    "_, thresh = cv2.threshold(im, 1, 1, cv2.THRESH_BINARY)\n",
    "\n",
    "plt.imshow(thresh, cmap='gray')\n",
    "plt.show()\n",
    "\n",
    "num_labels, labels_im = connected_components(thresh, 8)"
   ]
  },
  {
   "cell_type": "markdown",
   "metadata": {},
   "source": [
    "#### 1. How many objects have one or more holes?"
   ]
  },
  {
   "cell_type": "code",
   "execution_count": 5,
   "metadata": {},
   "outputs": [
    {
     "name": "stdout",
     "output_type": "stream",
     "text": [
      "Number of objects having one or more holes: 6\n"
     ]
    },
    {
     "data": {
      "image/png": "[encoded data removed]",
      "text/plain": [
       "<Figure size 432x288 with 1 Axes>"
      ]
     },
     "metadata": {
      "needs_background": "light"
     },
     "output_type": "display_data"
    }
   ],
   "source": [
    "ret = np.zeros(labels_im.shape)\n",
    "\n",
    "count = 0\n",
    "for i in range(1, num_labels):\n",
    "    new = np.where(labels_im == i, 1, 0)\n",
    "    new_in = 1 - new\n",
    "    \n",
    "    num, lab = connected_components(new_in, 8)\n",
    "    if num > 2:\n",
    "        count += 1\n",
    "        ret[new == 1] = 1\n",
    "        \n",
    "print(\"Number of objects having one or more holes:\", count)\n",
    "\n",
    "plt.imshow(ret, cmap='gray')\n",
    "plt.show()"
   ]
  },
  {
   "cell_type": "markdown",
   "metadata": {},
   "source": [
    "#### 2. How many square objects are in the image?"
   ]
  },
  {
   "cell_type": "code",
   "execution_count": 8,
   "metadata": {},
   "outputs": [
    {
     "name": "stdout",
     "output_type": "stream",
     "text": [
      "Number of square objects in the image are: 3\n"
     ]
    },
    {
     "data": {
      "image/png": "[encoded data removed]",
      "text/plain": [
       "<Figure size 432x288 with 1 Axes>"
      ]
     },
     "metadata": {
      "needs_background": "light"
     },
     "output_type": "display_data"
    },
    {
     "name": "stdout",
     "output_type": "stream",
     "text": [
      "Number of all right angled quadrilateral objects (rectangle, square) in the image are: 11\n"
     ]
    },
    {
     "data": {
      "image/png": "[encoded data removed]",
      "text/plain": [
       "<Figure size 432x288 with 1 Axes>"
      ]
     },
     "metadata": {
      "needs_background": "light"
     },
     "output_type": "display_data"
    }
   ],
   "source": [
    "kernel1 = np.array([[0, 0, 0],\n",
    "                  [0, 1, 1],\n",
    "                  [0, 1, 1]])\n",
    "\n",
    "kernel2 = np.array([[0, 0, 0],\n",
    "                  [1, 1, 0],\n",
    "                  [1, 1, 0]])\n",
    "\n",
    "kernel3 = np.array([[0, 1, 1],\n",
    "                  [0, 1, 1],\n",
    "                  [0, 0, 0]])\n",
    "\n",
    "kernel4 = np.array([[1, 1, 0],\n",
    "                  [1, 1, 0],\n",
    "                  [0, 0, 0]])\n",
    "\n",
    "ret_sq = np.zeros(labels_im.shape)\n",
    "ret_four = np.zeros(labels_im.shape)\n",
    "\n",
    "count_sq = 0\n",
    "count_four = 0\n",
    "for i in range(num_labels):\n",
    "    new = np.where(labels_im == i, 1, 0)\n",
    "    new_op1 = morphological_op(new, kernel1)\n",
    "    new_op2 = morphological_op(new, kernel2)\n",
    "    new_op3 = morphological_op(new, kernel3)\n",
    "    new_op4 = morphological_op(new, kernel4)\n",
    "    \n",
    "    ind1 = np.argwhere(new_op1 == 1)\n",
    "    ind2 = np.argwhere(new_op2 == 1)\n",
    "    ind3 = np.argwhere(new_op3 == 1)\n",
    "    ind4 = np.argwhere(new_op4 == 1)\n",
    "    \n",
    "    if ind1.shape[0] == 0 or ind2.shape[0] == 0 or ind3.shape[0] == 0 or ind4.shape[0] == 0:\n",
    "        continue\n",
    "    \n",
    "    dist = np.array([ind2[0][1]-ind1[0][1], ind4[0][1]-ind3[0][1], ind3[0][0]-ind1[0][0], ind4[0][0]-ind2[0][0]])\n",
    "    \n",
    "    if np.sum(new_op1) == 1 and np.sum(new_op2) == 1 and np.sum(new_op3) == 1 and np.sum(new_op4) == 1:\n",
    "        if np.unique(dist).shape[0] == 1:\n",
    "            count_sq += 1\n",
    "            ret_sq[new == 1] = 1\n",
    "        \n",
    "    if np.sum(new_op1) == 1:\n",
    "        count_four += 1\n",
    "        ret_four[new == 1] = 1\n",
    "        \n",
    "print(\"Number of square objects in the image are:\", count_sq)\n",
    "\n",
    "plt.imshow(ret_sq, cmap='gray')\n",
    "plt.show()\n",
    "\n",
    "print(\"Number of all right angled quadrilateral objects (rectangle, square) in the image are:\", count_four)\n",
    "\n",
    "plt.imshow(ret_four, cmap='gray')\n",
    "plt.show()"
   ]
  },
  {
   "cell_type": "markdown",
   "metadata": {},
   "source": [
    "#### 3. Identify the square objects that have holes."
   ]
  },
  {
   "cell_type": "code",
   "execution_count": 10,
   "metadata": {},
   "outputs": [
    {
     "name": "stdout",
     "output_type": "stream",
     "text": [
      "Number of square objects in the image that have holes are: 1\n"
     ]
    },
    {
     "data": {
      "image/png": "[encoded data removed]",
      "text/plain": [
       "<Figure size 432x288 with 1 Axes>"
      ]
     },
     "metadata": {
      "needs_background": "light"
     },
     "output_type": "display_data"
    },
    {
     "name": "stdout",
     "output_type": "stream",
     "text": [
      "Number of right angled quadrilateral objects (rectangles, squares) in the image that have holes are: 2\n"
     ]
    },
    {
     "data": {
      "image/png": "[encoded data removed]",
      "text/plain": [
       "<Figure size 432x288 with 1 Axes>"
      ]
     },
     "metadata": {
      "needs_background": "light"
     },
     "output_type": "display_data"
    }
   ],
   "source": [
    "ret_sq = np.zeros(labels_im.shape)\n",
    "ret_four = np.zeros(labels_im.shape)\n",
    "\n",
    "count_sq = 0\n",
    "count_four = 0\n",
    "\n",
    "for i in range(num_labels):\n",
    "    new = np.where(labels_im == i, 1, 0)\n",
    "    new_op1 = morphological_op(new, kernel1)\n",
    "    new_op2 = morphological_op(new, kernel2)\n",
    "    new_op3 = morphological_op(new, kernel3)\n",
    "    new_op4 = morphological_op(new, kernel4)\n",
    "    \n",
    "    ind1 = np.argwhere(new_op1 == 1)\n",
    "    ind2 = np.argwhere(new_op2 == 1)\n",
    "    ind3 = np.argwhere(new_op3 == 1)\n",
    "    ind4 = np.argwhere(new_op4 == 1)\n",
    "    \n",
    "    if ind1.shape[0] == 0 or ind2.shape[0] == 0 or ind3.shape[0] == 0 or ind4.shape[0] == 0:\n",
    "        continue\n",
    "    \n",
    "    dist = np.array([ind2[0][1]-ind1[0][1], ind4[0][1]-ind3[0][1], ind3[0][0]-ind1[0][0], ind4[0][0]-ind2[0][0]])\n",
    "    \n",
    "    new_in = 1 - new\n",
    "    num, lab = connected_components(new_in, 8)\n",
    "    \n",
    "    if np.sum(new_op1) == 1 and np.sum(new_op2) == 1 and np.sum(new_op3) == 1 and np.sum(new_op4) == 1:\n",
    "        if np.unique(dist).shape[0] == 1 and num > 2:\n",
    "            count_sq += 1\n",
    "            ret_sq[new == 1] = 1\n",
    "        \n",
    "    if np.sum(new_op1) == 1 and num > 2:\n",
    "        count_four += 1\n",
    "        ret_four[new == 1] = 1\n",
    "        \n",
    "print(\"Number of square objects in the image that have holes are:\", count_sq)\n",
    "\n",
    "plt.imshow(ret_sq, cmap='gray')\n",
    "plt.show()\n",
    "\n",
    "print(\"Number of right angled quadrilateral objects (rectangles, squares) in the image that have holes are:\", count_four)\n",
    "\n",
    "plt.imshow(ret_four, cmap='gray')\n",
    "plt.show()"
   ]
  },
  {
   "cell_type": "markdown",
   "metadata": {},
   "source": [
    "#### 4. Identify the circular objects that have no holes"
   ]
  },
  {
   "cell_type": "code",
   "execution_count": 8,
   "metadata": {},
   "outputs": [
    {
     "name": "stdout",
     "output_type": "stream",
     "text": [
      "Number of circular objects in the image that have no holes are: 12\n"
     ]
    },
    {
     "data": {
      "image/png": "[encoded data removed]",
      "text/plain": [
       "<Figure size 432x288 with 1 Axes>"
      ]
     },
     "metadata": {
      "needs_background": "light"
     },
     "output_type": "display_data"
    }
   ],
   "source": [
    "ret = np.zeros(labels_im.shape)\n",
    "\n",
    "count = 0\n",
    "for i in range(num_labels):\n",
    "    new = np.where(labels_im == i, 1, 0)\n",
    "    new_op = morphological_op(new, kernel)\n",
    "    \n",
    "    new_in = 1 - new\n",
    "    num, lab = connected_components(new_in, 8)\n",
    "    \n",
    "    if np.sum(new_op) == 0 and num == 2:\n",
    "        count += 1\n",
    "        ret[new == 1] = 1\n",
    "        \n",
    "print(\"Number of circular objects in the image that have no holes are:\", count)\n",
    "\n",
    "plt.imshow(ret, cmap='gray')\n",
    "plt.show()"
   ]
  }
 ],
 "metadata": {
  "kernelspec": {
   "display_name": "Python 3",
   "language": "python",
   "name": "python3"
  },
  "language_info": {
   "codemirror_mode": {
    "name": "ipython",
    "version": 3
   },
   "file_extension": ".py",
   "mimetype": "text/x-python",
   "name": "python",
   "nbconvert_exporter": "python",
   "pygments_lexer": "ipython3",
   "version": "3.8.5"
  }
 },
 "nbformat": 4,
 "nbformat_minor": 4
}
